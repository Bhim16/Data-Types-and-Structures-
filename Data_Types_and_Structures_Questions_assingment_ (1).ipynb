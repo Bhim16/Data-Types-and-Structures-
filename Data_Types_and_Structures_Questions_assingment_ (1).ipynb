{
  "nbformat": 4,
  "nbformat_minor": 0,
  "metadata": {
    "colab": {
      "provenance": []
    },
    "kernelspec": {
      "name": "python3",
      "display_name": "Python 3"
    },
    "language_info": {
      "name": "python"
    }
  },
  "cells": [
    {
      "cell_type": "markdown",
      "source": [
        "# Data Types and Structures Questions"
      ],
      "metadata": {
        "id": "JgYtAVoBBmWI"
      }
    },
    {
      "cell_type": "markdown",
      "source": [
        "#    1. What are data structures, and why are they important?\n",
        " ans. data structure is a way, where we can store data, and organize the data in a proper way, so that we can manipulation the data.its impotant because it help us to improve the code.\n"
      ],
      "metadata": {
        "id": "zFk2M6UTBswQ"
      }
    },
    {
      "cell_type": "markdown",
      "source": [
        "# Q.2.  Explain the difference between mutable and immutable data types with examples?\n",
        "\n",
        " ANS. The programming language mutable data type can be change & modifie the code after cration.while immutable data types cannot be changed once created the code.  "
      ],
      "metadata": {
        "id": "x8cqxEmLCM5s"
      }
    },
    {
      "cell_type": "markdown",
      "source": [
        "# Q.3 What are the main differences between lists and tuples in Python?\n",
        "\n",
        "ANS. The Python language list is mutable and tuples is immutable.so that case in list element can be change & in tuples case cannot be change elements.\n",
        "\n",
        ""
      ],
      "metadata": {
        "id": "jGOg-e2cD-iz"
      }
    },
    {
      "cell_type": "markdown",
      "source": [
        "# Q.4. Describe how dictionaries store data?\n",
        "\n",
        "ANS.  Dictionaries are used to store data values in key:value pairs. A dictionary is a collection which is ordered*, changeable and do not allow duplicates."
      ],
      "metadata": {
        "id": "Aqq-Za0cFwDe"
      }
    },
    {
      "cell_type": "markdown",
      "source": [
        "# Q.5  What is a string in Python, and how is it different from a list?\n",
        "\n",
        "ANS.  The python language a string is a sequence of characters, such as letters, numbers, symbols, or whitespace, represented as a single unit.\n",
        "\n",
        "\n",
        "# how is it different from a list.\n",
        "  \n",
        "  *   In python list is an ordered collection of items, where each item can be of any data type umbers, strings, other lists. list is mutable. it is add, remove, or modify items after the list is created.Lists are created using square brackets [] with items separated by commas,.\n",
        "\n",
        "\n",
        "\n",
        "\n"
      ],
      "metadata": {
        "id": "nZtP63ghGtW7"
      }
    },
    {
      "cell_type": "markdown",
      "source": [
        "# Q.6  How do tuples ensure data integrity in Python?\n",
        "\n",
        "ANS. Tuples are immutable to ensure that their contents remain constant throughout their lifecycle"
      ],
      "metadata": {
        "id": "q6HEyopxItkh"
      }
    },
    {
      "cell_type": "markdown",
      "source": [
        "# Q.7  Can lists contain different data types in Python?\n",
        "\n",
        "ANS.  yes it can for an e.g> ncluding strings, floats, and booleans"
      ],
      "metadata": {
        "id": "4d77yleJJDiF"
      }
    },
    {
      "cell_type": "markdown",
      "source": [
        "# Q.8. What is a hash table, and how does it relate to dictionaries in Python?\n",
        "\n",
        "ANS.A hash table is a data structure that stores key-value pairs.\n",
        "It uses a hash function to determine the storage location (index) of a key within an array (or\"buckets\").this allows for efficient (average O(1) time complexity) retrieval, insertion, and deletion of data.\n",
        "\n",
        "# how does it relate to dictionaries in Python?\n",
        "\n",
        "Python dictionaries are implemented using hash tables.\n",
        "When you create a dictionary, Python uses a hash function to map the keys to indices within an internal array (or \"buckets\").\n",
        "This allows you to access values in a dictionary very quickly, based on their keys.\n"
      ],
      "metadata": {
        "id": "C_whrZ7hJh_G"
      }
    },
    {
      "cell_type": "markdown",
      "source": [
        "# Q.9. Can lists contain different data types in Python?\n",
        " ANS. The list also contain a mix of Python types including strings, floats, and booleans.\n",
        ""
      ],
      "metadata": {
        "id": "YConzd9aKqtH"
      }
    },
    {
      "cell_type": "markdown",
      "source": [
        "# Q.10.Explain why strings are immutable in Python.\n",
        "\n",
        "ANS. The stirngs are immutable objects cannot change their value, Python can optimize memory usage."
      ],
      "metadata": {
        "id": "hM-oHbTbLKRL"
      }
    },
    {
      "cell_type": "markdown",
      "source": [
        "# Q.11. What advantages do dictionaries offer over lists for certain tasks?\n",
        "  ANS. Dictionaries are faster than lists for certain tasks like data retrieval and lookups. Dictionaries are also easier to read when generating key-value pairs."
      ],
      "metadata": {
        "id": "-qGmRLDJLghH"
      }
    },
    {
      "cell_type": "markdown",
      "source": [
        "# Q.12.Describe a scenario where using a tuple would be preferable over a list?\n",
        "ANS. in python language list is mutable we can change, add , remove the elements.list are more flexible & have more built in methods. tuple is immutable where the elements cannot be change after creation.\n",
        "\n",
        "\n"
      ],
      "metadata": {
        "id": "Nvlz0b3dL4YG"
      }
    },
    {
      "cell_type": "markdown",
      "source": [
        "# Q.13.How do sets handle duplicate values in Python.\n",
        "ANS.Python sets cannot have duplicate values.\n",
        "\n"
      ],
      "metadata": {
        "id": "6j0j-I13OFW9"
      }
    },
    {
      "cell_type": "markdown",
      "source": [
        "Q.14. How does the “in” keyword work differently for lists and dictionaries?\n"
      ],
      "metadata": {
        "id": "vISzA-ZoOVmo"
      }
    },
    {
      "cell_type": "markdown",
      "source": [
        "Q.15.Can you modify the elements of a tuple? Explain why or why not?"
      ],
      "metadata": {
        "id": "spHJqogwPP6Z"
      }
    },
    {
      "cell_type": "markdown",
      "source": [
        "# Q.16 What is a nested dictionary, and give an example of its use case?\n",
        "ANS. A nested dictionary is a dictionary where the values are themselves dictionaries, allowing for hierarchical data organization. A use case is representing an organizational chart, where departments are keys and their employees (as dictionaries) are the values."
      ],
      "metadata": {
        "id": "hW5zoVjSPTrv"
      }
    },
    {
      "cell_type": "code",
      "source": [
        "# Nested dictionary representing an organizational chart\n",
        "company_org_chart = {\n",
        "    \"IOT\": {\n",
        "        \"ID234\": \"BHIM VISHAL\"\n",
        "    },\n",
        "    \"ENGINEER\": {\n",
        "        \"ID123\": \"AJAY\",\n",
        "        \"ID122\": \"PARSHANT\"\n",
        "    },\n",
        "    \"PROJECT\": {\n",
        "        \"ID303\": \" PRIYA\",\n",
        "        \"ID321\": \"THAMANA\"\n",
        "    }\n",
        "}"
      ],
      "metadata": {
        "id": "q3BT28dmTIW5"
      },
      "execution_count": 2,
      "outputs": []
    },
    {
      "cell_type": "markdown",
      "source": [
        "# Q.17.Describe the time complexity of accessing elements in a dictionary?\n",
        "ANS. The time complexity of Accessing elements in a dictionary or, hash, map typically has an average time complexity of O(1), meaning it takes constant time regardless of the dictionary's size, due to its hash table implementation.\n"
      ],
      "metadata": {
        "id": "n8E-D80SPcSr"
      }
    },
    {
      "cell_type": "markdown",
      "source": [
        "# Q.18 In what situations are lists preferred over dictionaries?\n",
        "ANS. list preferred quick data look-ups, configurations, or caches, favor dictionaries. For ordered collections and sequence operations, such as maintaining a stack or queue, lists are more suitable."
      ],
      "metadata": {
        "id": "MNIp3H8SPg2P"
      }
    },
    {
      "cell_type": "markdown",
      "source": [
        "# Q.19.Why are dictionaries considered unordered, and how does that affect data retrieval?\n",
        "ANS. The Dictionaries are unordered because they store data as key-value pairs, and the order of these pairs is not inherently maintained, meaning you can't access elements by their position. This affects data retrieval as you must access values using their keys, rather than relying on an index or position."
      ],
      "metadata": {
        "id": "LwI44j-xPpdc"
      }
    },
    {
      "cell_type": "markdown",
      "source": [
        "# Q.20.Explain the difference between a list and a dictionary in terms of data retrieval.\n",
        "\n",
        "# ANS. LIST\n",
        "\n",
        "1.Data Structure is Ordered collection of items.\n",
        "2.Access By numerical index (position).\n",
        "3.Time Complexity Linear search (O(n)).\n",
        "\n",
        "# Dictionary\n",
        "1.Unordered collection of key-value pairs in data structure.\n",
        "2.unique key access in dictionary.\n",
        "3.Average-case constant search (O(1))in time complexity."
      ],
      "metadata": {
        "id": "aHWMhqemPvLQ"
      }
    },
    {
      "cell_type": "markdown",
      "source": [
        "## Practical Questions"
      ],
      "metadata": {
        "id": "BbXrEmejajRj"
      }
    },
    {
      "cell_type": "code",
      "source": [
        "#Q.1. Write a code to create a string with your name and print it.\n",
        "\n",
        "a =(\"BHIM VISHAL\")\n",
        "print(a)"
      ],
      "metadata": {
        "colab": {
          "base_uri": "https://localhost:8080/"
        },
        "id": "3Y0eM2bnamJk",
        "outputId": "baf0920d-a356-4d1d-acc4-58c8b366867b"
      },
      "execution_count": 3,
      "outputs": [
        {
          "output_type": "stream",
          "name": "stdout",
          "text": [
            "BHIM VISHAL\n"
          ]
        }
      ]
    },
    {
      "cell_type": "code",
      "source": [
        "#Q.2.Write a code to find the length of the string \"Hello World\".\n",
        "a = \"vishal,bhim!\"\n",
        "print(len(a))"
      ],
      "metadata": {
        "colab": {
          "base_uri": "https://localhost:8080/"
        },
        "id": "7tJ43el9bIwx",
        "outputId": "1e7a924a-f677-4664-e905-b27c20f5523e"
      },
      "execution_count": 6,
      "outputs": [
        {
          "output_type": "stream",
          "name": "stdout",
          "text": [
            "12\n"
          ]
        }
      ]
    },
    {
      "cell_type": "code",
      "source": [
        "#.Q.3.Write a code to slice the first 3 characters from the string \"Python Programming\"?\n",
        "\n",
        "\n",
        "a=(\"BHIM VISHAL\")\n",
        "a=a[0:3]\n",
        "print(a)"
      ],
      "metadata": {
        "colab": {
          "base_uri": "https://localhost:8080/"
        },
        "id": "yTSzo07UbVMv",
        "outputId": "e3049730-c55e-44df-def8-63db5e5b6f1e"
      },
      "execution_count": 11,
      "outputs": [
        {
          "output_type": "stream",
          "name": "stdout",
          "text": [
            "BHI\n"
          ]
        }
      ]
    },
    {
      "cell_type": "code",
      "source": [
        "#Q.4.Write a code to convert the string \"hello\" to uppercase.\n",
        "\n",
        "a=(\"BHIM\")\n",
        "a.upper()"
      ],
      "metadata": {
        "colab": {
          "base_uri": "https://localhost:8080/",
          "height": 36
        },
        "id": "oOh2RKWkcBf6",
        "outputId": "e4143793-7018-4aaf-f818-fedca07ae6ab"
      },
      "execution_count": 13,
      "outputs": [
        {
          "output_type": "execute_result",
          "data": {
            "text/plain": [
              "'BHIM'"
            ],
            "application/vnd.google.colaboratory.intrinsic+json": {
              "type": "string"
            }
          },
          "metadata": {},
          "execution_count": 13
        }
      ]
    },
    {
      "cell_type": "code",
      "source": [
        "#.Q.5.Write a code to replace the word \"apple\" with \"orange\" in the string \"I like apple\".\n",
        "a=(\"i like apple\")\n",
        "a.replace(\"apple\",\"orange\")"
      ],
      "metadata": {
        "colab": {
          "base_uri": "https://localhost:8080/",
          "height": 36
        },
        "id": "yMTwUQIcchdu",
        "outputId": "15af7087-77b0-4e4a-cae1-6292dd5b7fbe"
      },
      "execution_count": 14,
      "outputs": [
        {
          "output_type": "execute_result",
          "data": {
            "text/plain": [
              "'i like orange'"
            ],
            "application/vnd.google.colaboratory.intrinsic+json": {
              "type": "string"
            }
          },
          "metadata": {},
          "execution_count": 14
        }
      ]
    },
    {
      "cell_type": "code",
      "source": [
        "#Q.6.Write a code to create a list with numbers 1 to 5 and print it.\n",
        "a=[\"1\",\"2\",\"3\",\"4\",\"5\"]\n",
        "type(a)"
      ],
      "metadata": {
        "colab": {
          "base_uri": "https://localhost:8080/"
        },
        "id": "tmBhQpfQcqos",
        "outputId": "e73652b8-af00-45b9-f746-823ccdfe9918"
      },
      "execution_count": 15,
      "outputs": [
        {
          "output_type": "execute_result",
          "data": {
            "text/plain": [
              "list"
            ]
          },
          "metadata": {},
          "execution_count": 15
        }
      ]
    },
    {
      "cell_type": "code",
      "source": [
        "#.Q.7.Write a code to append the number 10 to the list [1, 2, 3, 4].\n",
        "a=[1,2,3,4]\n",
        "a.append(10)\n",
        "print(a)"
      ],
      "metadata": {
        "colab": {
          "base_uri": "https://localhost:8080/"
        },
        "id": "Ni2gj6SYc9l5",
        "outputId": "97a6bf5d-1113-438f-eec6-5e326bda6575"
      },
      "execution_count": 16,
      "outputs": [
        {
          "output_type": "stream",
          "name": "stdout",
          "text": [
            "[1, 2, 3, 4, 10]\n"
          ]
        }
      ]
    },
    {
      "cell_type": "markdown",
      "source": [],
      "metadata": {
        "id": "IQ54HjwhdqrV"
      }
    },
    {
      "cell_type": "code",
      "source": [
        "#Q.8.Write a code to remove the number 3 from the list [1, 2, 3, 4, 5].\n",
        "a=[1,2,3,4,5]\n",
        "a.remove(3)\n",
        "print(a)"
      ],
      "metadata": {
        "colab": {
          "base_uri": "https://localhost:8080/"
        },
        "id": "AqtkoFFWdGec",
        "outputId": "c969d7e7-a792-486b-ce8c-113c86074e02"
      },
      "execution_count": 18,
      "outputs": [
        {
          "output_type": "stream",
          "name": "stdout",
          "text": [
            "[1, 2, 4, 5]\n"
          ]
        }
      ]
    },
    {
      "cell_type": "code",
      "source": [
        "#Q.9.Write a code to access the second element in the list ['a', 'b', 'c', 'd']P\n",
        "a=[\"a\",\"b\",\"c\",\"d\"]\n",
        "a[1]"
      ],
      "metadata": {
        "colab": {
          "base_uri": "https://localhost:8080/",
          "height": 36
        },
        "id": "_arjQSgYdbJ3",
        "outputId": "d8ebd0a1-f8b7-4e83-bd1a-504c1732021d"
      },
      "execution_count": 19,
      "outputs": [
        {
          "output_type": "execute_result",
          "data": {
            "text/plain": [
              "'b'"
            ],
            "application/vnd.google.colaboratory.intrinsic+json": {
              "type": "string"
            }
          },
          "metadata": {},
          "execution_count": 19
        }
      ]
    },
    {
      "cell_type": "code",
      "source": [],
      "metadata": {
        "id": "LAvTZYOpd303"
      },
      "execution_count": null,
      "outputs": []
    },
    {
      "cell_type": "code",
      "source": [
        "#Q.10.Write a code to reverse the list [10, 20, 30, 40, 50].\n",
        "a=[10,20,30,40,50]\n",
        "a.reverse()\n",
        "print(a)"
      ],
      "metadata": {
        "colab": {
          "base_uri": "https://localhost:8080/"
        },
        "id": "pHKfx5otdl_y",
        "outputId": "193bef01-24be-43a2-c8f2-f7fd61975bb6"
      },
      "execution_count": 20,
      "outputs": [
        {
          "output_type": "stream",
          "name": "stdout",
          "text": [
            "[50, 40, 30, 20, 10]\n"
          ]
        }
      ]
    },
    {
      "cell_type": "code",
      "source": [
        "#Q.11.Write a code to create a tuple with the elements 100, 200, 300 and print it.\n",
        "a=(100,200,300)\n",
        "type(a)\n",
        "print(a)"
      ],
      "metadata": {
        "colab": {
          "base_uri": "https://localhost:8080/"
        },
        "id": "TLCPjw4IdsGl",
        "outputId": "df440082-19fb-4207-cdee-1eb33f4c655f"
      },
      "execution_count": 21,
      "outputs": [
        {
          "output_type": "stream",
          "name": "stdout",
          "text": [
            "(100, 200, 300)\n"
          ]
        }
      ]
    },
    {
      "cell_type": "code",
      "source": [
        "#Q.12.Write a code to access the second-to-last element of the tuple ('red', 'green', 'blue', 'yellow')\n",
        "a=(\"red\",\"green\",\"blue\",\"yellow\")\n",
        "a[1:]"
      ],
      "metadata": {
        "colab": {
          "base_uri": "https://localhost:8080/"
        },
        "id": "X4yfybmAd5ch",
        "outputId": "0d0b7b38-67e3-44be-9310-dfc1fedb5212"
      },
      "execution_count": 22,
      "outputs": [
        {
          "output_type": "execute_result",
          "data": {
            "text/plain": [
              "('green', 'blue', 'yellow')"
            ]
          },
          "metadata": {},
          "execution_count": 22
        }
      ]
    },
    {
      "cell_type": "code",
      "source": [
        "#Q.13.Write a code to find the minimum number in the tuple (10, 20, 5, 15).\n",
        "a=(10,20,5,15)\n",
        "min(a)"
      ],
      "metadata": {
        "colab": {
          "base_uri": "https://localhost:8080/"
        },
        "id": "zOhEvkvgeDP9",
        "outputId": "63acd60f-8f7d-4227-815b-492f3cc84640"
      },
      "execution_count": 23,
      "outputs": [
        {
          "output_type": "execute_result",
          "data": {
            "text/plain": [
              "5"
            ]
          },
          "metadata": {},
          "execution_count": 23
        }
      ]
    },
    {
      "cell_type": "code",
      "source": [
        "#  14. Write a code to find the index of the element \"cat\" in the tuple ('dog', 'cat', 'rabbit').\n",
        "a=(\"dog\",\"cat\",\"rabbit\")\n",
        "index=a.index(\"cat\")\n",
        "print(index)"
      ],
      "metadata": {
        "colab": {
          "base_uri": "https://localhost:8080/"
        },
        "id": "aDDmTr6veQLv",
        "outputId": "1bce6903-7618-498a-955b-edf7d49993a7"
      },
      "execution_count": 1,
      "outputs": [
        {
          "output_type": "stream",
          "name": "stdout",
          "text": [
            "1\n"
          ]
        }
      ]
    },
    {
      "cell_type": "code",
      "source": [
        "\n",
        "#15. Write a code to create a tuple containing three different fruits and check if \"kiwi\" is in it.\n",
        "a=(\"apple\",\"mango\",\"banana\",\"kiwi\")\n",
        "if \"kiwi\" in a:\n",
        "  print(\"kiwi found\")\n",
        "else:\n",
        "  print(\"kiwi not found\")"
      ],
      "metadata": {
        "colab": {
          "base_uri": "https://localhost:8080/"
        },
        "id": "fQH_u8XfNNrJ",
        "outputId": "c6e623cc-1e45-428b-fc86-8854ef375f50"
      },
      "execution_count": 2,
      "outputs": [
        {
          "output_type": "stream",
          "name": "stdout",
          "text": [
            "kiwi found\n"
          ]
        }
      ]
    },
    {
      "cell_type": "code",
      "source": [
        "\n",
        "\n",
        "#16. Write a code to create a set with the elements 'a', 'b', 'c' and print it.\n",
        "a={\"a\",\"b\",\"c\"}\n",
        "type(a)\n",
        "print(a)\n",
        "\n",
        "\n"
      ],
      "metadata": {
        "colab": {
          "base_uri": "https://localhost:8080/"
        },
        "id": "1Ar_FM9yNTAr",
        "outputId": "edb55ec3-b867-4e01-ff2c-c189574fee14"
      },
      "execution_count": 3,
      "outputs": [
        {
          "output_type": "stream",
          "name": "stdout",
          "text": [
            "{'c', 'b', 'a'}\n"
          ]
        }
      ]
    },
    {
      "cell_type": "code",
      "source": [
        "\n",
        "#17. Write a code to clear all elements from the set {1, 2, 3, 4, 5}.\n",
        "\n",
        "a={1,2,3,4,5}\n",
        "a.clear()\n",
        "print(a)"
      ],
      "metadata": {
        "colab": {
          "base_uri": "https://localhost:8080/"
        },
        "id": "xEZS86oSNTMO",
        "outputId": "b95eab10-13d1-47e2-b5ca-b6882d73996e"
      },
      "execution_count": 4,
      "outputs": [
        {
          "output_type": "stream",
          "name": "stdout",
          "text": [
            "set()\n"
          ]
        }
      ]
    },
    {
      "cell_type": "code",
      "source": [
        "#18. Write a code to remove the element 4 from the set {1, 2, 3, 4}.\n",
        "\n",
        "a={1,2,3,4}\n",
        "a.remove(4)\n",
        "print(a)"
      ],
      "metadata": {
        "colab": {
          "base_uri": "https://localhost:8080/"
        },
        "id": "xJZ9yY5RNTTO",
        "outputId": "a8f6b12f-6bd4-4134-8280-6c99e830c595"
      },
      "execution_count": 5,
      "outputs": [
        {
          "output_type": "stream",
          "name": "stdout",
          "text": [
            "{1, 2, 3}\n"
          ]
        }
      ]
    },
    {
      "cell_type": "code",
      "source": [
        "\n",
        "#19. Write a code to find the union of two sets {1, 2, 3} and {3, 4, 5}.\n",
        "a={1,2,3}\n",
        "b={3,4,5}\n",
        "a.union(b)"
      ],
      "metadata": {
        "colab": {
          "base_uri": "https://localhost:8080/"
        },
        "id": "AF5_hlQoNTXB",
        "outputId": "ccf28ad3-6f81-46ef-b1f6-b699aece566f"
      },
      "execution_count": 6,
      "outputs": [
        {
          "output_type": "execute_result",
          "data": {
            "text/plain": [
              "{1, 2, 3, 4, 5}"
            ]
          },
          "metadata": {},
          "execution_count": 6
        }
      ]
    },
    {
      "cell_type": "code",
      "source": [
        "\n",
        "#20. Write a code to find the intersection of two sets {1, 2, 3} and {2, 3, 4}\n",
        "a={1,2,3}\n",
        "b={2,3,4}\n",
        "a.intersection(b)"
      ],
      "metadata": {
        "colab": {
          "base_uri": "https://localhost:8080/"
        },
        "id": "US2wueteNhPm",
        "outputId": "b35a7405-4b2e-4d61-f188-457e4d79b5a3"
      },
      "execution_count": 7,
      "outputs": [
        {
          "output_type": "execute_result",
          "data": {
            "text/plain": [
              "{2, 3}"
            ]
          },
          "metadata": {},
          "execution_count": 7
        }
      ]
    },
    {
      "cell_type": "code",
      "source": [
        "#21. Write a code to create a dictionary with the keys \"name\", \"age\", and \"city\", and print it.\n",
        "a={\"name\":\"avi\",\"age\":20,\"city\":\"kolkata\"}\n",
        "type(a)\n",
        "print(a)"
      ],
      "metadata": {
        "colab": {
          "base_uri": "https://localhost:8080/"
        },
        "id": "nlJRO_Q1NhTM",
        "outputId": "ada672cc-cd6f-4589-c0ac-fb7b51c99007"
      },
      "execution_count": 8,
      "outputs": [
        {
          "output_type": "stream",
          "name": "stdout",
          "text": [
            "{'name': 'avi', 'age': 20, 'city': 'kolkata'}\n"
          ]
        }
      ]
    },
    {
      "cell_type": "code",
      "source": [
        "\n",
        "#22. Write a code to add a new key-value pair \"country\": \"USA\" to the dictionary {'name': 'John', 'age': 25}\n",
        "a={\"name\":\"jhon\",\"age\":\"25\"}\n",
        "a[\"country\"]=\"USA\"\n",
        "print(a)"
      ],
      "metadata": {
        "colab": {
          "base_uri": "https://localhost:8080/"
        },
        "id": "arNGzHkPNTbM",
        "outputId": "4c7f2e19-7140-4bfa-ea0b-96f8db1b1738"
      },
      "execution_count": 9,
      "outputs": [
        {
          "output_type": "stream",
          "name": "stdout",
          "text": [
            "{'name': 'jhon', 'age': '25', 'country': 'USA'}\n"
          ]
        }
      ]
    },
    {
      "cell_type": "code",
      "source": [
        "#23. Write a code to access the value associated with the key \"name\" in the dictionary {'name': 'Alice', 'age': 30}.\n",
        "a={\"name\":\"alice\",\"age\":\"30\"}\n",
        "a[\"name\"]"
      ],
      "metadata": {
        "colab": {
          "base_uri": "https://localhost:8080/",
          "height": 36
        },
        "id": "3VUkQ2KgNTef",
        "outputId": "adf1ef41-481f-434e-85ea-32dd9c87be1f"
      },
      "execution_count": 10,
      "outputs": [
        {
          "output_type": "execute_result",
          "data": {
            "text/plain": [
              "'alice'"
            ],
            "application/vnd.google.colaboratory.intrinsic+json": {
              "type": "string"
            }
          },
          "metadata": {},
          "execution_count": 10
        }
      ]
    },
    {
      "cell_type": "code",
      "source": [
        "\n",
        " #24. Write a code to remove the key \"age\" from the dictionary {'name': 'Bob', 'age': 22, 'city': 'New York'}.\n",
        " a={\"name\":\"bob\",\"age\":\"22\",\"city\":\"new york\"}\n",
        " a.pop(\"age\")\n",
        " print(a)"
      ],
      "metadata": {
        "colab": {
          "base_uri": "https://localhost:8080/"
        },
        "id": "jmDSZk3BNxQp",
        "outputId": "248710ef-463c-4220-f968-8ba6d57eeaa9"
      },
      "execution_count": 11,
      "outputs": [
        {
          "output_type": "stream",
          "name": "stdout",
          "text": [
            "{'name': 'bob', 'city': 'new york'}\n"
          ]
        }
      ]
    },
    {
      "cell_type": "code",
      "source": [
        "\n",
        "#25. Write a code to check if the key \"city\" exists in the dictionary {'name': 'Alice', 'city': 'Paris'}.\n",
        "a={\"name\":\"alice\",\"city\":\"paris\"}\n",
        "if \"city\" in a:\n",
        "  print(\"yes\")\n",
        "else:\n",
        "  print(\"not found\")"
      ],
      "metadata": {
        "colab": {
          "base_uri": "https://localhost:8080/"
        },
        "id": "RCFNhg45NxTL",
        "outputId": "48d8bafa-de5f-473d-e27e-d9035c71be75"
      },
      "execution_count": 12,
      "outputs": [
        {
          "output_type": "stream",
          "name": "stdout",
          "text": [
            "yes\n"
          ]
        }
      ]
    },
    {
      "cell_type": "code",
      "source": [
        "\n",
        "#26. Write a code to create a list, a tuple, and a dictionary, and print them all.\n",
        "a=[\"apple\",\"mango\",\"kiwi\"]\n",
        "b=(\"honda\",\"hero\",\"ktm\")\n",
        "c={\"india\",\"nepal\",\"usa\"}\n",
        "print(a,b,c)"
      ],
      "metadata": {
        "colab": {
          "base_uri": "https://localhost:8080/"
        },
        "id": "4-YPGYGmNxVx",
        "outputId": "99b1e0c7-f8c4-488f-d790-add943d577a0"
      },
      "execution_count": 13,
      "outputs": [
        {
          "output_type": "stream",
          "name": "stdout",
          "text": [
            "['apple', 'mango', 'kiwi'] ('honda', 'hero', 'ktm') {'nepal', 'india', 'usa'}\n"
          ]
        }
      ]
    },
    {
      "cell_type": "code",
      "source": [
        "\n",
        "#28. Write a code to create a list with strings and print the element at the third index.\n",
        "a = [\"ram\",\"sita\",\"hanuman\",\"bhim\"]\n",
        "\n",
        "for eliments in a:\n",
        "  print(eliments)\n"
      ],
      "metadata": {
        "colab": {
          "base_uri": "https://localhost:8080/"
        },
        "id": "Av9HkncfNxYM",
        "outputId": "9fcb3521-8cf5-466e-8e80-ca54e271a115"
      },
      "execution_count": 24,
      "outputs": [
        {
          "output_type": "stream",
          "name": "stdout",
          "text": [
            "ram\n",
            "sita\n",
            "hanuman\n",
            "bhim\n"
          ]
        }
      ]
    },
    {
      "cell_type": "code",
      "source": [
        "\n",
        "\n",
        "#29. Write a code to combine two dictionaries into one and print the result.\n",
        "a={\"india\",\"himachal\",\"chandigarh\"}\n",
        "b={\"dehli\",\"punjab\",\"jammu\"}\n",
        "a.update(b)\n",
        "print(a)\n",
        "\n"
      ],
      "metadata": {
        "colab": {
          "base_uri": "https://localhost:8080/"
        },
        "id": "HLXND5u4Nxaz",
        "outputId": "909e5e91-848e-424b-c8dd-a2ce6b1ff8d1"
      },
      "execution_count": 27,
      "outputs": [
        {
          "output_type": "stream",
          "name": "stdout",
          "text": [
            "{'dehli', 'himachal', 'chandigarh', 'jammu', 'punjab', 'india'}\n"
          ]
        }
      ]
    },
    {
      "cell_type": "code",
      "source": [
        "#30. Write a code to convert a list of strings into a set.\n",
        "a=[\"bhim\",\"akshay\",\"sharma ji\"]\n",
        "b=set(a)\n",
        "print(b)"
      ],
      "metadata": {
        "colab": {
          "base_uri": "https://localhost:8080/"
        },
        "id": "kaP70xSqNxd-",
        "outputId": "6693450c-033d-443c-8443-21f82af0e782"
      },
      "execution_count": 30,
      "outputs": [
        {
          "output_type": "stream",
          "name": "stdout",
          "text": [
            "{'sharma ji', 'bhim', 'akshay'}\n"
          ]
        }
      ]
    },
    {
      "cell_type": "code",
      "source": [],
      "metadata": {
        "id": "LufSBuJBPoT8"
      },
      "execution_count": null,
      "outputs": []
    }
  ]
}